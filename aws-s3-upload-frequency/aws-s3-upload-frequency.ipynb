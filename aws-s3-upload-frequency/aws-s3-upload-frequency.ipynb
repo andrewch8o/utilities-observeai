{
 "cells": [
  {
   "cell_type": "markdown",
   "id": "8fd0db0c",
   "metadata": {},
   "source": [
    "The notebook solves problem of dumping last updated timestamp for objects uploads under particular S3 path and then visualizing the frequency of uploads\n",
    "\n",
    "Approach:\n",
    "    * Use boto3 list-objects API to pull info for all the files under S3 path ( can take long time )\n",
    "    * Generate interactive chart of the frequency of uploads \"bucketed\" in 5-min intervals (a.k.a how many files were uploaded every 5 min)\n",
    "    \n",
    "How to use the notebook:\n",
    "    * Fill in parameters in the first cell\n",
    "    * Select and run each cell in order\n",
    "    * To \"reset\" the jupyter notebook you can revert changes to the *.ipynb file via GIT"
   ]
  },
  {
   "cell_type": "code",
   "execution_count": null,
   "id": "28cf04a4",
   "metadata": {},
   "outputs": [],
   "source": [
    "class CONFIG:\n",
    "    class ARGS:\n",
    "        s3url = 'TODO: put in S3 path s3://<bucket>/s3/path/to/scan',\n",
    "        label = None "
   ]
  },
  {
   "cell_type": "code",
   "execution_count": null,
   "id": "08e0cdde",
   "metadata": {},
   "outputs": [],
   "source": [
    "import json\n",
    "import boto3\n",
    "import argparse\n",
    "from tqdm.notebook import tqdm\n",
    "from urllib.parse import urlparse\n",
    "from datetime import date, datetime"
   ]
  },
  {
   "cell_type": "code",
   "execution_count": null,
   "id": "c52064d3",
   "metadata": {},
   "outputs": [],
   "source": [
    "\"\"\"\n",
    "Script routines\n",
    "\"\"\"\n",
    "def scan_s3_path(from_s3_url):\n",
    "    '''Using AWS S3 API to fetch information about objects uploaded (updated)\n",
    "        under specific S3 url'''\n",
    "    client = boto3.client('s3')\n",
    "    print(f'Scanning {from_s3_url}')\n",
    "    s3_url = urlparse(from_s3_url)\n",
    "    s3_bucket = s3_url.netloc\n",
    "    s3_prefix = s3_url.path[1:]\n",
    "    paginator = client.get_paginator('list_objects_v2')\n",
    "    listing = {}\n",
    "    pbar_iterator = tqdm(paginator.paginate(Bucket=s3_bucket, Prefix=s3_prefix))\n",
    "    pbar_iterator.set_description_str('Iterating over S3 API response pages')\n",
    "    for page in pbar_iterator:\n",
    "        try:\n",
    "            page_contents = page['Contents']\n",
    "            listing.update( { rec['Key'] : rec['LastModified'] for rec in page_contents } )\n",
    "        except KeyError:\n",
    "            # Ignoring KeyError that may occur on \"folders\" (empty objects)\n",
    "            pass\n",
    "    return listing\n",
    "\n"
   ]
  },
  {
   "cell_type": "code",
   "execution_count": null,
   "id": "575e6438",
   "metadata": {},
   "outputs": [],
   "source": [
    "s3_stats = scan_s3_path(from_s3_url=CONFIG.ARGS.s3url)"
   ]
  }
 ],
 "metadata": {
  "kernelspec": {
   "display_name": "Python 3",
   "language": "python",
   "name": "python3"
  },
  "language_info": {
   "codemirror_mode": {
    "name": "ipython",
    "version": 3
   },
   "file_extension": ".py",
   "mimetype": "text/x-python",
   "name": "python",
   "nbconvert_exporter": "python",
   "pygments_lexer": "ipython3",
   "version": "3.8.8"
  }
 },
 "nbformat": 4,
 "nbformat_minor": 5
}
